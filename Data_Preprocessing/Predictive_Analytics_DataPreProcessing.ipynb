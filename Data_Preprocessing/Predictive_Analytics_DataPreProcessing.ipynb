{
  "nbformat": 4,
  "nbformat_minor": 0,
  "metadata": {
    "colab": {
      "provenance": []
    },
    "kernelspec": {
      "name": "python3",
      "display_name": "Python 3"
    },
    "language_info": {
      "name": "python"
    }
  },
  "cells": [
    {
      "cell_type": "markdown",
      "source": [
        "**IMPORT DEPENDENCIES**"
      ],
      "metadata": {
        "id": "C3aZSwPHLFkl"
      }
    },
    {
      "cell_type": "code",
      "execution_count": 36,
      "metadata": {
        "id": "GIXoieUiGOdP"
      },
      "outputs": [],
      "source": [
        "import pandas as pd\n",
        "import numpy as np\n",
        "import os"
      ]
    },
    {
      "cell_type": "markdown",
      "source": [
        "**kNOW ABOUT WD**"
      ],
      "metadata": {
        "id": "yg856fJkLNgD"
      }
    },
    {
      "cell_type": "code",
      "source": [
        "print(os.getcwd())  # Prints the current working directory"
      ],
      "metadata": {
        "colab": {
          "base_uri": "https://localhost:8080/"
        },
        "id": "Xe2vb4OvGR3u",
        "outputId": "b6d5c959-719c-4e50-ef09-c58e9c5cf3ab"
      },
      "execution_count": 37,
      "outputs": [
        {
          "output_type": "stream",
          "name": "stdout",
          "text": [
            "/content\n"
          ]
        }
      ]
    },
    {
      "cell_type": "markdown",
      "source": [
        "**Create the output directory if it doesn't exist**"
      ],
      "metadata": {
        "id": "WaVaSNbDLl0L"
      }
    },
    {
      "cell_type": "code",
      "source": [
        "output_dir = \"data\"\n",
        "os.makedirs(output_dir, exist_ok=True)"
      ],
      "metadata": {
        "id": "jFecMvGHGWre"
      },
      "execution_count": 3,
      "outputs": []
    },
    {
      "cell_type": "markdown",
      "source": [
        "**Upload the files**"
      ],
      "metadata": {
        "id": "N7oAddOLLoFb"
      }
    },
    {
      "cell_type": "code",
      "source": [
        "from google.colab import files\n",
        "\n",
        "# Upload the file\n",
        "uploaded = files.upload()\n"
      ],
      "metadata": {
        "colab": {
          "base_uri": "https://localhost:8080/",
          "height": 90
        },
        "id": "MKwaOkyFHFOL",
        "outputId": "5f2fb947-ad7b-493d-ebbc-d1055c6fda03"
      },
      "execution_count": 5,
      "outputs": [
        {
          "output_type": "display_data",
          "data": {
            "text/plain": [
              "<IPython.core.display.HTML object>"
            ],
            "text/html": [
              "\n",
              "     <input type=\"file\" id=\"files-7e3740a1-3ff2-4b8d-861f-4f62c3434832\" name=\"files[]\" multiple disabled\n",
              "        style=\"border:none\" />\n",
              "     <output id=\"result-7e3740a1-3ff2-4b8d-861f-4f62c3434832\">\n",
              "      Upload widget is only available when the cell has been executed in the\n",
              "      current browser session. Please rerun this cell to enable.\n",
              "      </output>\n",
              "      <script>// Copyright 2017 Google LLC\n",
              "//\n",
              "// Licensed under the Apache License, Version 2.0 (the \"License\");\n",
              "// you may not use this file except in compliance with the License.\n",
              "// You may obtain a copy of the License at\n",
              "//\n",
              "//      http://www.apache.org/licenses/LICENSE-2.0\n",
              "//\n",
              "// Unless required by applicable law or agreed to in writing, software\n",
              "// distributed under the License is distributed on an \"AS IS\" BASIS,\n",
              "// WITHOUT WARRANTIES OR CONDITIONS OF ANY KIND, either express or implied.\n",
              "// See the License for the specific language governing permissions and\n",
              "// limitations under the License.\n",
              "\n",
              "/**\n",
              " * @fileoverview Helpers for google.colab Python module.\n",
              " */\n",
              "(function(scope) {\n",
              "function span(text, styleAttributes = {}) {\n",
              "  const element = document.createElement('span');\n",
              "  element.textContent = text;\n",
              "  for (const key of Object.keys(styleAttributes)) {\n",
              "    element.style[key] = styleAttributes[key];\n",
              "  }\n",
              "  return element;\n",
              "}\n",
              "\n",
              "// Max number of bytes which will be uploaded at a time.\n",
              "const MAX_PAYLOAD_SIZE = 100 * 1024;\n",
              "\n",
              "function _uploadFiles(inputId, outputId) {\n",
              "  const steps = uploadFilesStep(inputId, outputId);\n",
              "  const outputElement = document.getElementById(outputId);\n",
              "  // Cache steps on the outputElement to make it available for the next call\n",
              "  // to uploadFilesContinue from Python.\n",
              "  outputElement.steps = steps;\n",
              "\n",
              "  return _uploadFilesContinue(outputId);\n",
              "}\n",
              "\n",
              "// This is roughly an async generator (not supported in the browser yet),\n",
              "// where there are multiple asynchronous steps and the Python side is going\n",
              "// to poll for completion of each step.\n",
              "// This uses a Promise to block the python side on completion of each step,\n",
              "// then passes the result of the previous step as the input to the next step.\n",
              "function _uploadFilesContinue(outputId) {\n",
              "  const outputElement = document.getElementById(outputId);\n",
              "  const steps = outputElement.steps;\n",
              "\n",
              "  const next = steps.next(outputElement.lastPromiseValue);\n",
              "  return Promise.resolve(next.value.promise).then((value) => {\n",
              "    // Cache the last promise value to make it available to the next\n",
              "    // step of the generator.\n",
              "    outputElement.lastPromiseValue = value;\n",
              "    return next.value.response;\n",
              "  });\n",
              "}\n",
              "\n",
              "/**\n",
              " * Generator function which is called between each async step of the upload\n",
              " * process.\n",
              " * @param {string} inputId Element ID of the input file picker element.\n",
              " * @param {string} outputId Element ID of the output display.\n",
              " * @return {!Iterable<!Object>} Iterable of next steps.\n",
              " */\n",
              "function* uploadFilesStep(inputId, outputId) {\n",
              "  const inputElement = document.getElementById(inputId);\n",
              "  inputElement.disabled = false;\n",
              "\n",
              "  const outputElement = document.getElementById(outputId);\n",
              "  outputElement.innerHTML = '';\n",
              "\n",
              "  const pickedPromise = new Promise((resolve) => {\n",
              "    inputElement.addEventListener('change', (e) => {\n",
              "      resolve(e.target.files);\n",
              "    });\n",
              "  });\n",
              "\n",
              "  const cancel = document.createElement('button');\n",
              "  inputElement.parentElement.appendChild(cancel);\n",
              "  cancel.textContent = 'Cancel upload';\n",
              "  const cancelPromise = new Promise((resolve) => {\n",
              "    cancel.onclick = () => {\n",
              "      resolve(null);\n",
              "    };\n",
              "  });\n",
              "\n",
              "  // Wait for the user to pick the files.\n",
              "  const files = yield {\n",
              "    promise: Promise.race([pickedPromise, cancelPromise]),\n",
              "    response: {\n",
              "      action: 'starting',\n",
              "    }\n",
              "  };\n",
              "\n",
              "  cancel.remove();\n",
              "\n",
              "  // Disable the input element since further picks are not allowed.\n",
              "  inputElement.disabled = true;\n",
              "\n",
              "  if (!files) {\n",
              "    return {\n",
              "      response: {\n",
              "        action: 'complete',\n",
              "      }\n",
              "    };\n",
              "  }\n",
              "\n",
              "  for (const file of files) {\n",
              "    const li = document.createElement('li');\n",
              "    li.append(span(file.name, {fontWeight: 'bold'}));\n",
              "    li.append(span(\n",
              "        `(${file.type || 'n/a'}) - ${file.size} bytes, ` +\n",
              "        `last modified: ${\n",
              "            file.lastModifiedDate ? file.lastModifiedDate.toLocaleDateString() :\n",
              "                                    'n/a'} - `));\n",
              "    const percent = span('0% done');\n",
              "    li.appendChild(percent);\n",
              "\n",
              "    outputElement.appendChild(li);\n",
              "\n",
              "    const fileDataPromise = new Promise((resolve) => {\n",
              "      const reader = new FileReader();\n",
              "      reader.onload = (e) => {\n",
              "        resolve(e.target.result);\n",
              "      };\n",
              "      reader.readAsArrayBuffer(file);\n",
              "    });\n",
              "    // Wait for the data to be ready.\n",
              "    let fileData = yield {\n",
              "      promise: fileDataPromise,\n",
              "      response: {\n",
              "        action: 'continue',\n",
              "      }\n",
              "    };\n",
              "\n",
              "    // Use a chunked sending to avoid message size limits. See b/62115660.\n",
              "    let position = 0;\n",
              "    do {\n",
              "      const length = Math.min(fileData.byteLength - position, MAX_PAYLOAD_SIZE);\n",
              "      const chunk = new Uint8Array(fileData, position, length);\n",
              "      position += length;\n",
              "\n",
              "      const base64 = btoa(String.fromCharCode.apply(null, chunk));\n",
              "      yield {\n",
              "        response: {\n",
              "          action: 'append',\n",
              "          file: file.name,\n",
              "          data: base64,\n",
              "        },\n",
              "      };\n",
              "\n",
              "      let percentDone = fileData.byteLength === 0 ?\n",
              "          100 :\n",
              "          Math.round((position / fileData.byteLength) * 100);\n",
              "      percent.textContent = `${percentDone}% done`;\n",
              "\n",
              "    } while (position < fileData.byteLength);\n",
              "  }\n",
              "\n",
              "  // All done.\n",
              "  yield {\n",
              "    response: {\n",
              "      action: 'complete',\n",
              "    }\n",
              "  };\n",
              "}\n",
              "\n",
              "scope.google = scope.google || {};\n",
              "scope.google.colab = scope.google.colab || {};\n",
              "scope.google.colab._files = {\n",
              "  _uploadFiles,\n",
              "  _uploadFilesContinue,\n",
              "};\n",
              "})(self);\n",
              "</script> "
            ]
          },
          "metadata": {}
        },
        {
          "output_type": "stream",
          "name": "stdout",
          "text": [
            "Saving Predictive_Analytics_Dataset.xlsx to Predictive_Analytics_Dataset.xlsx\n"
          ]
        }
      ]
    },
    {
      "cell_type": "markdown",
      "source": [
        "**Load the uploaded Excel file**"
      ],
      "metadata": {
        "id": "VEIvzmd3Ludb"
      }
    },
    {
      "cell_type": "code",
      "source": [
        "file_path = 'Predictive_Analytics_Dataset.xlsx'\n",
        "ride_pricing = pd.read_excel(file_path, sheet_name='Ride_Pricing')\n",
        "delivery_pricing = pd.read_excel(file_path, sheet_name='Delivery_Pricing')\n",
        "\n"
      ],
      "metadata": {
        "id": "GuaUEYdyGZ-V"
      },
      "execution_count": 6,
      "outputs": []
    },
    {
      "cell_type": "markdown",
      "source": [
        "**Show the first few rows of each dataframe**"
      ],
      "metadata": {
        "id": "0iTWvZxJL6LK"
      }
    },
    {
      "cell_type": "code",
      "source": [
        "\n",
        "print(ride_pricing.head())\n",
        "print(delivery_pricing.head())\n"
      ],
      "metadata": {
        "colab": {
          "base_uri": "https://localhost:8080/"
        },
        "id": "zNgmUwb_HRXH",
        "outputId": "708d9767-661f-4d29-9dc6-132f0e5b1463"
      },
      "execution_count": 7,
      "outputs": [
        {
          "output_type": "stream",
          "name": "stdout",
          "text": [
            "   Trip_ID  Pickup_Latitude  Pickup_Longitude  Dropoff_Latitude  \\\n",
            "0        1        58.016686        120.375340         34.174453   \n",
            "1        2        39.394756        167.111298        -84.945298   \n",
            "2        3        28.822889        177.911576         31.310856   \n",
            "3        4       -43.121622       -159.881579        -71.057746   \n",
            "4        5       -11.481815         98.235790         68.826294   \n",
            "\n",
            "   Dropoff_Longitude  Trip_Distance_km  Trip_Duration_min  Base_Fare  \\\n",
            "0          76.312721             12.70                 86       2.88   \n",
            "1         -37.868752             24.98                102       4.08   \n",
            "2        -129.974510              3.03                 51       4.04   \n",
            "3         148.088678              8.41                110       2.81   \n",
            "4          20.899098             19.76                 34       3.62   \n",
            "\n",
            "   Surge_Multiplier Time_of_Day Day_of_Week Weather_Condition Vehicle_Type  \\\n",
            "0              1.00   Afternoon      Monday             Windy     Standard   \n",
            "1              1.00     Morning      Friday             Windy       Luxury   \n",
            "2              1.97     Evening    Saturday             Windy       Luxury   \n",
            "3              1.00     Morning      Sunday             Rainy       Luxury   \n",
            "4              1.00     Morning      Friday             Windy      Premium   \n",
            "\n",
            "   Traffic_Index Pickup_Location_Type Dropoff_Location_Type  Tolls  \\\n",
            "0           1.06              Airport              Suburban   8.69   \n",
            "1           1.67             Suburban                 Urban   0.97   \n",
            "2           1.74              Airport              Suburban   1.25   \n",
            "3           1.81             Suburban              Suburban   1.16   \n",
            "4           1.70                Urban                 Urban   8.90   \n",
            "\n",
            "   Cancellation_Fee  Passenger_Count  Total_Fare  \n",
            "0               0.0                3    73.62000  \n",
            "1               0.0                2    93.52000  \n",
            "2               0.0                3    69.60995  \n",
            "3               0.0                1    71.58500  \n",
            "4               0.0                2    59.16000  \n",
            "   Delivery_ID  Pickup_Latitude  Pickup_Longitude  Dropoff_Latitude  \\\n",
            "0            1        34.152160       -134.681731        -47.667625   \n",
            "1            2        73.961044        -72.790336         62.001700   \n",
            "2            3       -14.987883        101.148032        -44.063356   \n",
            "3            4        75.566102        -10.538837         36.819004   \n",
            "4            5        80.532172        139.084985        -75.498315   \n",
            "\n",
            "   Dropoff_Longitude  Delivery_Distance_km  Package_Weight_kg  \\\n",
            "0        -108.622480                 16.90               7.74   \n",
            "1          82.297489                 17.32               3.06   \n",
            "2         -96.117223                 14.81               5.74   \n",
            "3         169.080048                 22.22              17.11   \n",
            "4         123.166294                 32.78               0.19   \n",
            "\n",
            "   Delivery_Time_Est_min  Order_Value  Platform_Fees Time_of_Day Day_of_Week  \\\n",
            "0                    102       339.53           3.18       Night      Friday   \n",
            "1                    154       453.57           2.14       Night    Saturday   \n",
            "2                    146        67.81           4.25       Night    Thursday   \n",
            "3                    121       353.38           1.12     Evening     Tuesday   \n",
            "4                     78       329.11           0.56     Morning      Friday   \n",
            "\n",
            "  Weather_Condition Delivery_Type  Traffic_Index Delivery_Location_Type  \\\n",
            "0             Sunny      Standard           1.16                 Remote   \n",
            "1             Windy       Express           0.88               Suburban   \n",
            "2             Rainy      Standard           0.84                  Urban   \n",
            "3             Snowy      Standard           1.14               Suburban   \n",
            "4             Windy       Express           0.67                  Urban   \n",
            "\n",
            "   Discount_Applied  Surge_Multiplier  Fuel_Cost  Total_Delivery_Fee  \n",
            "0              0.00              1.00       8.57            29.14000  \n",
            "1             19.62              1.00       8.73             6.63600  \n",
            "2              0.00              1.00       5.36            24.32800  \n",
            "3              0.00              1.00       5.74            33.19100  \n",
            "4              0.00              1.47       2.16            42.68733  \n"
          ]
        }
      ]
    },
    {
      "cell_type": "markdown",
      "source": [
        "**Function to preprocess a dataset**"
      ],
      "metadata": {
        "id": "iL_16LxZL8xR"
      }
    },
    {
      "cell_type": "code",
      "source": [
        "def preprocess_data(df, name):\n",
        "    print(f\"\\n### Preprocessing {name} Dataset ###\")"
      ],
      "metadata": {
        "id": "SF1gmv4QHbEq"
      },
      "execution_count": 8,
      "outputs": []
    },
    {
      "cell_type": "markdown",
      "source": [
        "**# Step 1: Load the Dataset**\n",
        "\n",
        "\n",
        "Loads data and reviews structure, column data types, and missing values.\n",
        "\n",
        "Saves the raw dataset for reference before modifications."
      ],
      "metadata": {
        "id": "Icb6bv6oMJ7A"
      }
    },
    {
      "cell_type": "code",
      "source": [
        "def preprocess_data(df, name):\n",
        "    print(f\"\\n### Preprocessing {name} Dataset ###\")\n",
        "    print(\"\\n**Step 1: Reviewing the Dataset Structure**\")\n",
        "    print(\"Dataset Information:\")\n",
        "    print(df.info())\n",
        "    print(\"\\nMissing Values Before Handling:\\n\", df.isnull().sum())\n",
        "\n",
        "    # This line is now indented inside the function AND 'name' is accessible\n",
        "    raw_file = f\"{output_dir}/raw_{name}.csv\"\n",
        "    df.to_csv(raw_file, index=False)\n",
        "    print(f\"Raw dataset saved to '{raw_file}'.\")\n",
        "\n",
        "# Call the function with your dataframes\n",
        "preprocess_data(ride_pricing, \"Ride Pricing\")\n",
        "preprocess_data(delivery_pricing, \"Delivery Pricing\")"
      ],
      "metadata": {
        "colab": {
          "base_uri": "https://localhost:8080/"
        },
        "id": "jsVDHjDEH2Y5",
        "outputId": "ba56d6da-eb36-499b-c63f-619c5ae0f66f"
      },
      "execution_count": 40,
      "outputs": [
        {
          "output_type": "stream",
          "name": "stdout",
          "text": [
            "\n",
            "### Preprocessing Ride Pricing Dataset ###\n",
            "\n",
            "**Step 1: Reviewing the Dataset Structure**\n",
            "Dataset Information:\n",
            "<class 'pandas.core.frame.DataFrame'>\n",
            "RangeIndex: 10000 entries, 0 to 9999\n",
            "Data columns (total 20 columns):\n",
            " #   Column                 Non-Null Count  Dtype         \n",
            "---  ------                 --------------  -----         \n",
            " 0   trip_id                10000 non-null  float64       \n",
            " 1   pickup_latitude        10000 non-null  float64       \n",
            " 2   pickup_longitude       10000 non-null  float64       \n",
            " 3   dropoff_latitude       10000 non-null  float64       \n",
            " 4   dropoff_longitude      10000 non-null  float64       \n",
            " 5   trip_distance_km       10000 non-null  float64       \n",
            " 6   trip_duration_min      10000 non-null  float64       \n",
            " 7   base_fare              10000 non-null  float64       \n",
            " 8   surge_multiplier       0 non-null      float64       \n",
            " 9   time_of_day            0 non-null      datetime64[ns]\n",
            " 10  day_of_week            10000 non-null  category      \n",
            " 11  weather_condition      10000 non-null  category      \n",
            " 12  vehicle_type           10000 non-null  category      \n",
            " 13  traffic_index          10000 non-null  float64       \n",
            " 14  pickup_location_type   10000 non-null  category      \n",
            " 15  dropoff_location_type  10000 non-null  category      \n",
            " 16  tolls                  10000 non-null  float64       \n",
            " 17  cancellation_fee       0 non-null      float64       \n",
            " 18  passenger_count        10000 non-null  float64       \n",
            " 19  total_fare             10000 non-null  float64       \n",
            "dtypes: category(5), datetime64[ns](1), float64(14)\n",
            "memory usage: 1.2 MB\n",
            "None\n",
            "\n",
            "Missing Values Before Handling:\n",
            " trip_id                      0\n",
            "pickup_latitude              0\n",
            "pickup_longitude             0\n",
            "dropoff_latitude             0\n",
            "dropoff_longitude            0\n",
            "trip_distance_km             0\n",
            "trip_duration_min            0\n",
            "base_fare                    0\n",
            "surge_multiplier         10000\n",
            "time_of_day              10000\n",
            "day_of_week                  0\n",
            "weather_condition            0\n",
            "vehicle_type                 0\n",
            "traffic_index                0\n",
            "pickup_location_type         0\n",
            "dropoff_location_type        0\n",
            "tolls                        0\n",
            "cancellation_fee         10000\n",
            "passenger_count              0\n",
            "total_fare                   0\n",
            "dtype: int64\n",
            "Raw dataset saved to 'data/raw_Ride Pricing.csv'.\n",
            "\n",
            "### Preprocessing Delivery Pricing Dataset ###\n",
            "\n",
            "**Step 1: Reviewing the Dataset Structure**\n",
            "Dataset Information:\n",
            "<class 'pandas.core.frame.DataFrame'>\n",
            "RangeIndex: 10000 entries, 0 to 9999\n",
            "Data columns (total 20 columns):\n",
            " #   Column                  Non-Null Count  Dtype  \n",
            "---  ------                  --------------  -----  \n",
            " 0   Delivery_ID             10000 non-null  int64  \n",
            " 1   Pickup_Latitude         10000 non-null  float64\n",
            " 2   Pickup_Longitude        10000 non-null  float64\n",
            " 3   Dropoff_Latitude        10000 non-null  float64\n",
            " 4   Dropoff_Longitude       10000 non-null  float64\n",
            " 5   Delivery_Distance_km    10000 non-null  float64\n",
            " 6   Package_Weight_kg       10000 non-null  float64\n",
            " 7   Delivery_Time_Est_min   10000 non-null  int64  \n",
            " 8   Order_Value             10000 non-null  float64\n",
            " 9   Platform_Fees           10000 non-null  float64\n",
            " 10  Time_of_Day             10000 non-null  object \n",
            " 11  Day_of_Week             10000 non-null  object \n",
            " 12  Weather_Condition       10000 non-null  object \n",
            " 13  Delivery_Type           10000 non-null  object \n",
            " 14  Traffic_Index           10000 non-null  float64\n",
            " 15  Delivery_Location_Type  10000 non-null  object \n",
            " 16  Discount_Applied        10000 non-null  float64\n",
            " 17  Surge_Multiplier        10000 non-null  float64\n",
            " 18  Fuel_Cost               10000 non-null  float64\n",
            " 19  Total_Delivery_Fee      10000 non-null  float64\n",
            "dtypes: float64(13), int64(2), object(5)\n",
            "memory usage: 1.5+ MB\n",
            "None\n",
            "\n",
            "Missing Values Before Handling:\n",
            " Delivery_ID               0\n",
            "Pickup_Latitude           0\n",
            "Pickup_Longitude          0\n",
            "Dropoff_Latitude          0\n",
            "Dropoff_Longitude         0\n",
            "Delivery_Distance_km      0\n",
            "Package_Weight_kg         0\n",
            "Delivery_Time_Est_min     0\n",
            "Order_Value               0\n",
            "Platform_Fees             0\n",
            "Time_of_Day               0\n",
            "Day_of_Week               0\n",
            "Weather_Condition         0\n",
            "Delivery_Type             0\n",
            "Traffic_Index             0\n",
            "Delivery_Location_Type    0\n",
            "Discount_Applied          0\n",
            "Surge_Multiplier          0\n",
            "Fuel_Cost                 0\n",
            "Total_Delivery_Fee        0\n",
            "dtype: int64\n",
            "Raw dataset saved to 'data/raw_Delivery Pricing.csv'.\n"
          ]
        }
      ]
    },
    {
      "cell_type": "markdown",
      "source": [
        "**Save and Download the raw dataset for reference**"
      ],
      "metadata": {
        "id": "Xa3fdLIhNNuP"
      }
    },
    {
      "cell_type": "code",
      "source": [
        "from google.colab import files\n",
        "\n",
        "# Download the file\n",
        "files.download('data/raw_Delivery Pricing.csv')\n"
      ],
      "metadata": {
        "colab": {
          "base_uri": "https://localhost:8080/",
          "height": 17
        },
        "id": "rEi3-lbnIjAM",
        "outputId": "022ba774-5586-4dcd-9b5a-13f1d630f977"
      },
      "execution_count": 16,
      "outputs": [
        {
          "output_type": "display_data",
          "data": {
            "text/plain": [
              "<IPython.core.display.Javascript object>"
            ],
            "application/javascript": [
              "\n",
              "    async function download(id, filename, size) {\n",
              "      if (!google.colab.kernel.accessAllowed) {\n",
              "        return;\n",
              "      }\n",
              "      const div = document.createElement('div');\n",
              "      const label = document.createElement('label');\n",
              "      label.textContent = `Downloading \"${filename}\": `;\n",
              "      div.appendChild(label);\n",
              "      const progress = document.createElement('progress');\n",
              "      progress.max = size;\n",
              "      div.appendChild(progress);\n",
              "      document.body.appendChild(div);\n",
              "\n",
              "      const buffers = [];\n",
              "      let downloaded = 0;\n",
              "\n",
              "      const channel = await google.colab.kernel.comms.open(id);\n",
              "      // Send a message to notify the kernel that we're ready.\n",
              "      channel.send({})\n",
              "\n",
              "      for await (const message of channel.messages) {\n",
              "        // Send a message to notify the kernel that we're ready.\n",
              "        channel.send({})\n",
              "        if (message.buffers) {\n",
              "          for (const buffer of message.buffers) {\n",
              "            buffers.push(buffer);\n",
              "            downloaded += buffer.byteLength;\n",
              "            progress.value = downloaded;\n",
              "          }\n",
              "        }\n",
              "      }\n",
              "      const blob = new Blob(buffers, {type: 'application/binary'});\n",
              "      const a = document.createElement('a');\n",
              "      a.href = window.URL.createObjectURL(blob);\n",
              "      a.download = filename;\n",
              "      div.appendChild(a);\n",
              "      a.click();\n",
              "      div.remove();\n",
              "    }\n",
              "  "
            ]
          },
          "metadata": {}
        },
        {
          "output_type": "display_data",
          "data": {
            "text/plain": [
              "<IPython.core.display.Javascript object>"
            ],
            "application/javascript": [
              "download(\"download_8eaa07e1-41f7-4c58-88f2-eee73a50fa57\", \"raw_Delivery Pricing.csv\", 1402656)"
            ]
          },
          "metadata": {}
        }
      ]
    },
    {
      "cell_type": "markdown",
      "source": [
        "**#Step2Handle Missing Values:**\n",
        "\n",
        "Numeric columns: Fills missing values with the median to reduce the effect of skewed distributions.\n",
        "\n",
        "Categorical columns: Fills missing values with the mode or most frequent value.\n"
      ],
      "metadata": {
        "id": "tw7Yfzh6NUU_"
      }
    },
    {
      "cell_type": "markdown",
      "source": [
        "**For sheet delivery_pricing**"
      ],
      "metadata": {
        "id": "DpjECC1jNzNl"
      }
    },
    {
      "cell_type": "code",
      "source": [
        "# Assuming you want to preprocess 'delivery_pricing' DataFrame\n",
        "df = delivery_pricing\n",
        "\n",
        "for col in df.columns:\n",
        "    if df[col].isnull().sum() > 0:\n",
        "        if df[col].dtype in ['int64', 'float64']:\n",
        "            median_value = df[col].median()\n",
        "            df[col].fillna(median_value, inplace=True)\n",
        "            print(f\"Filled missing values in numeric column '{col}' with median: {median_value}\")\n",
        "        elif df[col].dtype == 'object':\n",
        "            mode_value = df[col].mode()[0]\n",
        "            df[col].fillna(mode_value, inplace=True)\n",
        "            print(f\"Filled missing values in categorical column '{col}' with mode: '{mode_value}'\")\n",
        "print(\"\\nMissing Values After Handling:\\n\", df.isnull().sum())"
      ],
      "metadata": {
        "colab": {
          "base_uri": "https://localhost:8080/"
        },
        "id": "n3zVgf4uIo2g",
        "outputId": "4ce4d253-f860-489d-9782-5db690272db6"
      },
      "execution_count": 23,
      "outputs": [
        {
          "output_type": "stream",
          "name": "stdout",
          "text": [
            "\n",
            "Missing Values After Handling:\n",
            " Delivery_ID               0\n",
            "Pickup_Latitude           0\n",
            "Pickup_Longitude          0\n",
            "Dropoff_Latitude          0\n",
            "Dropoff_Longitude         0\n",
            "Delivery_Distance_km      0\n",
            "Package_Weight_kg         0\n",
            "Delivery_Time_Est_min     0\n",
            "Order_Value               0\n",
            "Platform_Fees             0\n",
            "Time_of_Day               0\n",
            "Day_of_Week               0\n",
            "Weather_Condition         0\n",
            "Delivery_Type             0\n",
            "Traffic_Index             0\n",
            "Delivery_Location_Type    0\n",
            "Discount_Applied          0\n",
            "Surge_Multiplier          0\n",
            "Fuel_Cost                 0\n",
            "Total_Delivery_Fee        0\n",
            "dtype: int64\n"
          ]
        }
      ]
    },
    {
      "cell_type": "markdown",
      "source": [
        "**For sheet ride_pricing**"
      ],
      "metadata": {
        "id": "sXdX6qe8Noj-"
      }
    },
    {
      "cell_type": "code",
      "source": [
        "# Assuming you want to preprocess 'delivery_pricing' DataFrame\n",
        "df = ride_pricing\n",
        "\n",
        "for col in df.columns:\n",
        "    if df[col].isnull().sum() > 0:\n",
        "        if df[col].dtype in ['int64', 'float64']:\n",
        "            median_value = df[col].median()\n",
        "            df[col].fillna(median_value, inplace=True)\n",
        "            print(f\"Filled missing values in numeric column '{col}' with median: {median_value}\")\n",
        "        elif df[col].dtype == 'object':\n",
        "            mode_value = df[col].mode()[0]\n",
        "            df[col].fillna(mode_value, inplace=True)\n",
        "            print(f\"Filled missing values in categorical column '{col}' with mode: '{mode_value}'\")\n",
        "print(\"\\nMissing Values After Handling:\\n\", df.isnull().sum())"
      ],
      "metadata": {
        "colab": {
          "base_uri": "https://localhost:8080/"
        },
        "id": "V49vDkqnJgMP",
        "outputId": "0104ba9f-12a9-43ce-940d-c198809ca909"
      },
      "execution_count": 25,
      "outputs": [
        {
          "output_type": "stream",
          "name": "stdout",
          "text": [
            "\n",
            "Missing Values After Handling:\n",
            " Trip_ID                  0\n",
            "Pickup_Latitude          0\n",
            "Pickup_Longitude         0\n",
            "Dropoff_Latitude         0\n",
            "Dropoff_Longitude        0\n",
            "Trip_Distance_km         0\n",
            "Trip_Duration_min        0\n",
            "Base_Fare                0\n",
            "Surge_Multiplier         0\n",
            "Time_of_Day              0\n",
            "Day_of_Week              0\n",
            "Weather_Condition        0\n",
            "Vehicle_Type             0\n",
            "Traffic_Index            0\n",
            "Pickup_Location_Type     0\n",
            "Dropoff_Location_Type    0\n",
            "Tolls                    0\n",
            "Cancellation_Fee         0\n",
            "Passenger_Count          0\n",
            "Total_Fare               0\n",
            "dtype: int64\n"
          ]
        }
      ]
    },
    {
      "cell_type": "markdown",
      "source": [
        "**#Step3 Correct Data Types:**\n",
        "\n",
        "Converts date-related columns to datetime format.\n",
        "Converts columns with few unique values to category type for memory optimization."
      ],
      "metadata": {
        "id": "T7NOulgON88a"
      }
    },
    {
      "cell_type": "code",
      "source": [
        "def correct_data_types(df):\n",
        "    print(\"\\n**Step 3: Correcting Data Types**\")\n",
        "    for col in df.columns:\n",
        "        if 'date' in col.lower() or 'time' in col.lower():\n",
        "            df[col] = pd.to_datetime(df[col], errors='coerce')\n",
        "            print(f\"Converted '{col}' to datetime format.\")\n",
        "        elif df[col].dtype == 'object' and len(df[col].unique()) < 20:\n",
        "            df[col] = df[col].astype('category')\n",
        "            print(f\"Converted '{col}' to category type for optimization.\")\n",
        "\n",
        "# Assuming you want to apply this to your 'ride_pricing' or 'delivery_pricing' dataframes:\n",
        "correct_data_types(ride_pricing)  # Or correct_data_types(delivery_pricing)"
      ],
      "metadata": {
        "colab": {
          "base_uri": "https://localhost:8080/"
        },
        "id": "F8yTtJ9VJpeN",
        "outputId": "e4423fed-0d22-46ad-88c5-a14ee2f91348"
      },
      "execution_count": 27,
      "outputs": [
        {
          "output_type": "stream",
          "name": "stdout",
          "text": [
            "\n",
            "**Step 3: Correcting Data Types**\n",
            "Converted 'Time_of_Day' to datetime format.\n",
            "Converted 'Day_of_Week' to category type for optimization.\n",
            "Converted 'Weather_Condition' to category type for optimization.\n",
            "Converted 'Vehicle_Type' to category type for optimization.\n",
            "Converted 'Pickup_Location_Type' to category type for optimization.\n",
            "Converted 'Dropoff_Location_Type' to category type for optimization.\n"
          ]
        },
        {
          "output_type": "stream",
          "name": "stderr",
          "text": [
            "<ipython-input-27-769dd8a3de89>:5: UserWarning: Could not infer format, so each element will be parsed individually, falling back to `dateutil`. To ensure parsing is consistent and as-expected, please specify a format.\n",
            "  df[col] = pd.to_datetime(df[col], errors='coerce')\n"
          ]
        }
      ]
    },
    {
      "cell_type": "markdown",
      "source": [
        "**#Step4 Feature Engineering:**\n",
        "\n",
        "Creates trip_duration by calculating the difference between start and end times.\n",
        "\n",
        "Extracts day_of_week and month for trend analysis.\n",
        "Adds an efficiency feature (distance divided by trip duration) to capture trip efficiency."
      ],
      "metadata": {
        "id": "p3xCflHbOaUl"
      }
    },
    {
      "cell_type": "code",
      "source": [
        "    print(\"\\n**Step 4: Feature Engineering**\")\n",
        "    if 'start_time' in df.columns and 'end_time' in df.columns:\n",
        "        df['trip_duration'] = (pd.to_datetime(df['end_time']) - pd.to_datetime(df['start_time'])).dt.total_seconds() / 60\n",
        "        print(\"Created 'trip_duration' feature (in minutes).\")\n",
        "    if 'date' in df.columns:\n",
        "        df['day_of_week'] = df['date'].dt.day_name()\n",
        "        df['month'] = df['date'].dt.month\n",
        "        print(\"Extracted 'day_of_week' and 'month' features.\")\n",
        "    if 'distance' in df.columns:\n",
        "        df['efficiency'] = df['distance'] / df['trip_duration']\n",
        "        print(\"Created 'efficiency' feature as distance divided by trip duration.\")"
      ],
      "metadata": {
        "colab": {
          "base_uri": "https://localhost:8080/"
        },
        "id": "NaajfpLsJ2y9",
        "outputId": "bb3ac237-8d9c-4e95-c5ec-52a4f3ae34de"
      },
      "execution_count": 28,
      "outputs": [
        {
          "output_type": "stream",
          "name": "stdout",
          "text": [
            "\n",
            "**Step 4: Feature Engineering**\n"
          ]
        }
      ]
    },
    {
      "cell_type": "markdown",
      "source": [
        "**#Step5 Outlier Detection and Handling:**\n",
        "\n",
        "Uses the Interquartile Range (IQR) method to identify and clip outliers for numeric columns."
      ],
      "metadata": {
        "id": "H0QiA9SMOfms"
      }
    },
    {
      "cell_type": "code",
      "source": [
        "def detect_and_handle_outliers(df):\n",
        "    print(\"\\n**Step 5: Detecting and Handling Outliers**\")\n",
        "    for col in df.select_dtypes(include=['float64', 'int64']):\n",
        "        q1, q3 = np.percentile(df[col].dropna(), [25, 75])\n",
        "        iqr = q3 - q1\n",
        "        lower_bound = q1 - 1.5 * iqr\n",
        "        upper_bound = q3 + 1.5 * iqr\n",
        "        outliers = df[(df[col] < lower_bound) | (df[col] > upper_bound)]\n",
        "        print(f\"{len(outliers)} outliers detected in '{col}'.\")\n",
        "        df[col] = np.clip(df[col], lower_bound, upper_bound)\n",
        "        print(f\"Clipped outliers in '{col}' to range [{lower_bound}, {upper_bound}].\")\n",
        "\n",
        "# Call the function to detect and handle outliers in your DataFrame\n",
        "detect_and_handle_outliers(ride_pricing)  # Or detect_and_handle_outliers(delivery_pricing)"
      ],
      "metadata": {
        "colab": {
          "base_uri": "https://localhost:8080/"
        },
        "id": "ZNWpImTAJ89K",
        "outputId": "3ebbc714-c9b8-414d-c174-eabe6e894bfe"
      },
      "execution_count": 30,
      "outputs": [
        {
          "output_type": "stream",
          "name": "stdout",
          "text": [
            "\n",
            "**Step 5: Detecting and Handling Outliers**\n",
            "0 outliers detected in 'Trip_ID'.\n",
            "Clipped outliers in 'Trip_ID' to range [-4998.5, 14999.5].\n",
            "0 outliers detected in 'Pickup_Latitude'.\n",
            "Clipped outliers in 'Pickup_Latitude' to range [-179.32517024999999, 178.05644475].\n",
            "0 outliers detected in 'Pickup_Longitude'.\n",
            "Clipped outliers in 'Pickup_Longitude' to range [-365.54503312500003, 363.615245875].\n",
            "0 outliers detected in 'Dropoff_Latitude'.\n",
            "Clipped outliers in 'Dropoff_Latitude' to range [-180.4771134375, 181.4916600625].\n",
            "0 outliers detected in 'Dropoff_Longitude'.\n",
            "Clipped outliers in 'Dropoff_Longitude' to range [-360.99280174999996, 363.74181024999996].\n",
            "0 outliers detected in 'Trip_Distance_km'.\n",
            "Clipped outliers in 'Trip_Distance_km' to range [-13.423749999999998, 44.18625].\n",
            "0 outliers detected in 'Trip_Duration_min'.\n",
            "Clipped outliers in 'Trip_Duration_min' to range [-52.5, 175.5].\n",
            "0 outliers detected in 'Base_Fare'.\n",
            "Clipped outliers in 'Base_Fare' to range [1.245, 6.245].\n",
            "2044 outliers detected in 'Surge_Multiplier'.\n",
            "Clipped outliers in 'Surge_Multiplier' to range [1.0, 1.0].\n",
            "0 outliers detected in 'Traffic_Index'.\n",
            "Clipped outliers in 'Traffic_Index' to range [-0.2400000000000001, 2.72].\n",
            "0 outliers detected in 'Tolls'.\n",
            "Clipped outliers in 'Tolls' to range [-5.175000000000001, 15.105].\n",
            "468 outliers detected in 'Cancellation_Fee'.\n",
            "Clipped outliers in 'Cancellation_Fee' to range [0.0, 0.0].\n",
            "0 outliers detected in 'Passenger_Count'.\n",
            "Clipped outliers in 'Passenger_Count' to range [-2.0, 6.0].\n",
            "680 outliers detected in 'Total_Fare'.\n",
            "Clipped outliers in 'Total_Fare' to range [-3.3943749999999895, 142.19062499999998].\n"
          ]
        }
      ]
    },
    {
      "cell_type": "markdown",
      "source": [
        "**#Step6 Sanitize and Normalize Data:**\n",
        "\n",
        "Standardizes column names to lowercase with underscores.\n",
        "\n",
        "Normalizes numeric columns using z-score normalization to standardize the scale"
      ],
      "metadata": {
        "id": "UxATYKMEOuwM"
      }
    },
    {
      "cell_type": "code",
      "source": [
        "    print(\"\\n**Step 6: Sanitizing and Normalizing Data**\")\n",
        "    df.columns = df.columns.str.strip().str.lower().str.replace(' ', '_')\n",
        "    print(\"Standardized column names.\")\n",
        "    for col in df.select_dtypes(include=['float64', 'int64']):\n",
        "        mean, std = df[col].mean(), df[col].std()\n",
        "        df[col] = (df[col] - mean) / std\n",
        "        print(f\"Normalized column '{col}' (mean: {mean}, std: {std}).\")"
      ],
      "metadata": {
        "colab": {
          "base_uri": "https://localhost:8080/"
        },
        "id": "4JHGeLGvKLdd",
        "outputId": "5b789311-6e46-47fa-e318-7397bb410400"
      },
      "execution_count": 31,
      "outputs": [
        {
          "output_type": "stream",
          "name": "stdout",
          "text": [
            "\n",
            "**Step 6: Sanitizing and Normalizing Data**\n",
            "Standardized column names.\n",
            "Normalized column 'trip_id' (mean: 5000.5, std: 2886.8956799071675).\n",
            "Normalized column 'pickup_latitude' (mean: -0.33535269864999984, std: 51.75078221391175).\n",
            "Normalized column 'pickup_longitude' (mean: -0.22083236730000008, std: 104.0820813708614).\n",
            "Normalized column 'dropoff_latitude' (mean: 0.4229178047499998, std: 52.10300929376189).\n",
            "Normalized column 'dropoff_longitude' (mean: 1.1904498239999997, std: 104.12402013065383).\n",
            "Normalized column 'trip_distance_km' (mean: 15.403397, std: 8.325806162481612).\n",
            "Normalized column 'trip_duration_min' (mean: 61.5439, std: 33.14584042476143).\n",
            "Normalized column 'base_fare' (mean: 3.7456479999999996, std: 0.7187640657922677).\n",
            "Normalized column 'surge_multiplier' (mean: 1.0, std: 0.0).\n",
            "Normalized column 'traffic_index' (mean: 1.247138, std: 0.4308361764488809).\n",
            "Normalized column 'tolls' (mean: 4.9687, std: 2.909758694387891).\n",
            "Normalized column 'cancellation_fee' (mean: 0.0, std: 0.0).\n",
            "Normalized column 'passenger_count' (mean: 2.4815, std: 1.114980747908572).\n",
            "Normalized column 'total_fare' (mean: 72.47439465, std: 30.29928216051137).\n"
          ]
        }
      ]
    },
    {
      "cell_type": "markdown",
      "source": [
        "**#Step7 Save Cleaned Data:**\n",
        "\n",
        "Saves the processed datasets into cleaned_Predictive_Analysis.csv filenames."
      ],
      "metadata": {
        "id": "3HtZ-iodO6Dr"
      }
    },
    {
      "cell_type": "code",
      "source": [
        "print(\"\\n**Step 7: Saving Cleaned Data**\")\n",
        "cleaned_file = f\"{output_dir}/cleaned_Predictive_Analysis.csv\"\n",
        "df.to_csv(cleaned_file, index=False)\n",
        "print(f\"Cleaned dataset saved to '{cleaned_file}'.\\n\")"
      ],
      "metadata": {
        "colab": {
          "base_uri": "https://localhost:8080/"
        },
        "id": "jN9uaHOOKQJs",
        "outputId": "f2f96458-a3d4-4029-8029-3f86a3c62554"
      },
      "execution_count": 34,
      "outputs": [
        {
          "output_type": "stream",
          "name": "stdout",
          "text": [
            "\n",
            "**Step 7: Saving Cleaned Data**\n",
            "Cleaned dataset saved to 'data/cleaned_Predictive_Analysis.csv'.\n",
            "\n"
          ]
        }
      ]
    },
    {
      "cell_type": "markdown",
      "source": [
        "**#Step8  Preprocess each dataset**"
      ],
      "metadata": {
        "id": "WYTMkiWfPMca"
      }
    },
    {
      "cell_type": "code",
      "source": [
        "preprocess_data(ride_pricing, \"Ride_Pricing\")\n",
        "preprocess_data(delivery_pricing, \"Delivery_Pricing\")"
      ],
      "metadata": {
        "colab": {
          "base_uri": "https://localhost:8080/"
        },
        "id": "mKPzK8MgKqIT",
        "outputId": "e0d7dd42-3c1f-4ad2-863e-e3a48472f615"
      },
      "execution_count": 35,
      "outputs": [
        {
          "output_type": "stream",
          "name": "stdout",
          "text": [
            "\n",
            "### Preprocessing Ride_Pricing Dataset ###\n",
            "\n",
            "**Step 1: Reviewing the Dataset Structure**\n",
            "Dataset Information:\n",
            "<class 'pandas.core.frame.DataFrame'>\n",
            "RangeIndex: 10000 entries, 0 to 9999\n",
            "Data columns (total 20 columns):\n",
            " #   Column                 Non-Null Count  Dtype         \n",
            "---  ------                 --------------  -----         \n",
            " 0   trip_id                10000 non-null  float64       \n",
            " 1   pickup_latitude        10000 non-null  float64       \n",
            " 2   pickup_longitude       10000 non-null  float64       \n",
            " 3   dropoff_latitude       10000 non-null  float64       \n",
            " 4   dropoff_longitude      10000 non-null  float64       \n",
            " 5   trip_distance_km       10000 non-null  float64       \n",
            " 6   trip_duration_min      10000 non-null  float64       \n",
            " 7   base_fare              10000 non-null  float64       \n",
            " 8   surge_multiplier       0 non-null      float64       \n",
            " 9   time_of_day            0 non-null      datetime64[ns]\n",
            " 10  day_of_week            10000 non-null  category      \n",
            " 11  weather_condition      10000 non-null  category      \n",
            " 12  vehicle_type           10000 non-null  category      \n",
            " 13  traffic_index          10000 non-null  float64       \n",
            " 14  pickup_location_type   10000 non-null  category      \n",
            " 15  dropoff_location_type  10000 non-null  category      \n",
            " 16  tolls                  10000 non-null  float64       \n",
            " 17  cancellation_fee       0 non-null      float64       \n",
            " 18  passenger_count        10000 non-null  float64       \n",
            " 19  total_fare             10000 non-null  float64       \n",
            "dtypes: category(5), datetime64[ns](1), float64(14)\n",
            "memory usage: 1.2 MB\n",
            "None\n",
            "\n",
            "Missing Values Before Handling:\n",
            " trip_id                      0\n",
            "pickup_latitude              0\n",
            "pickup_longitude             0\n",
            "dropoff_latitude             0\n",
            "dropoff_longitude            0\n",
            "trip_distance_km             0\n",
            "trip_duration_min            0\n",
            "base_fare                    0\n",
            "surge_multiplier         10000\n",
            "time_of_day              10000\n",
            "day_of_week                  0\n",
            "weather_condition            0\n",
            "vehicle_type                 0\n",
            "traffic_index                0\n",
            "pickup_location_type         0\n",
            "dropoff_location_type        0\n",
            "tolls                        0\n",
            "cancellation_fee         10000\n",
            "passenger_count              0\n",
            "total_fare                   0\n",
            "dtype: int64\n",
            "Raw dataset saved to 'data/raw_Ride_Pricing.csv'.\n",
            "\n",
            "### Preprocessing Delivery_Pricing Dataset ###\n",
            "\n",
            "**Step 1: Reviewing the Dataset Structure**\n",
            "Dataset Information:\n",
            "<class 'pandas.core.frame.DataFrame'>\n",
            "RangeIndex: 10000 entries, 0 to 9999\n",
            "Data columns (total 20 columns):\n",
            " #   Column                  Non-Null Count  Dtype  \n",
            "---  ------                  --------------  -----  \n",
            " 0   Delivery_ID             10000 non-null  int64  \n",
            " 1   Pickup_Latitude         10000 non-null  float64\n",
            " 2   Pickup_Longitude        10000 non-null  float64\n",
            " 3   Dropoff_Latitude        10000 non-null  float64\n",
            " 4   Dropoff_Longitude       10000 non-null  float64\n",
            " 5   Delivery_Distance_km    10000 non-null  float64\n",
            " 6   Package_Weight_kg       10000 non-null  float64\n",
            " 7   Delivery_Time_Est_min   10000 non-null  int64  \n",
            " 8   Order_Value             10000 non-null  float64\n",
            " 9   Platform_Fees           10000 non-null  float64\n",
            " 10  Time_of_Day             10000 non-null  object \n",
            " 11  Day_of_Week             10000 non-null  object \n",
            " 12  Weather_Condition       10000 non-null  object \n",
            " 13  Delivery_Type           10000 non-null  object \n",
            " 14  Traffic_Index           10000 non-null  float64\n",
            " 15  Delivery_Location_Type  10000 non-null  object \n",
            " 16  Discount_Applied        10000 non-null  float64\n",
            " 17  Surge_Multiplier        10000 non-null  float64\n",
            " 18  Fuel_Cost               10000 non-null  float64\n",
            " 19  Total_Delivery_Fee      10000 non-null  float64\n",
            "dtypes: float64(13), int64(2), object(5)\n",
            "memory usage: 1.5+ MB\n",
            "None\n",
            "\n",
            "Missing Values Before Handling:\n",
            " Delivery_ID               0\n",
            "Pickup_Latitude           0\n",
            "Pickup_Longitude          0\n",
            "Dropoff_Latitude          0\n",
            "Dropoff_Longitude         0\n",
            "Delivery_Distance_km      0\n",
            "Package_Weight_kg         0\n",
            "Delivery_Time_Est_min     0\n",
            "Order_Value               0\n",
            "Platform_Fees             0\n",
            "Time_of_Day               0\n",
            "Day_of_Week               0\n",
            "Weather_Condition         0\n",
            "Delivery_Type             0\n",
            "Traffic_Index             0\n",
            "Delivery_Location_Type    0\n",
            "Discount_Applied          0\n",
            "Surge_Multiplier          0\n",
            "Fuel_Cost                 0\n",
            "Total_Delivery_Fee        0\n",
            "dtype: int64\n",
            "Raw dataset saved to 'data/raw_Delivery_Pricing.csv'.\n"
          ]
        }
      ]
    },
    {
      "cell_type": "markdown",
      "source": [
        "**#Step9 Download Cleaned Datasets for two sheets sepeartely**"
      ],
      "metadata": {
        "id": "UVZ84WLLPUda"
      }
    },
    {
      "cell_type": "code",
      "source": [
        "from google.colab import files\n",
        "\n",
        "# Save the cleaned Ride Pricing dataset\n",
        "ride_pricing_cleaned_file = \"cleaned_Ride_Pricing.csv\"\n",
        "ride_pricing.to_csv(ride_pricing_cleaned_file, index=False)\n",
        "\n",
        "# Save the cleaned Delivery Pricing dataset\n",
        "delivery_pricing_cleaned_file = \"cleaned_Delivery_Pricing.csv\"\n",
        "delivery_pricing.to_csv(delivery_pricing_cleaned_file, index=False)\n",
        "\n",
        "# Download the files\n",
        "# Use the correct variable names for the file paths\n",
        "files.download(ride_pricing_cleaned_file)\n",
        "files.download(delivery_pricing_cleaned_file)"
      ],
      "metadata": {
        "colab": {
          "base_uri": "https://localhost:8080/",
          "height": 17
        },
        "id": "NhfIgLfdKtBU",
        "outputId": "52cd5188-8dba-4b76-c256-dca13c283ef8"
      },
      "execution_count": 42,
      "outputs": [
        {
          "output_type": "display_data",
          "data": {
            "text/plain": [
              "<IPython.core.display.Javascript object>"
            ],
            "application/javascript": [
              "\n",
              "    async function download(id, filename, size) {\n",
              "      if (!google.colab.kernel.accessAllowed) {\n",
              "        return;\n",
              "      }\n",
              "      const div = document.createElement('div');\n",
              "      const label = document.createElement('label');\n",
              "      label.textContent = `Downloading \"${filename}\": `;\n",
              "      div.appendChild(label);\n",
              "      const progress = document.createElement('progress');\n",
              "      progress.max = size;\n",
              "      div.appendChild(progress);\n",
              "      document.body.appendChild(div);\n",
              "\n",
              "      const buffers = [];\n",
              "      let downloaded = 0;\n",
              "\n",
              "      const channel = await google.colab.kernel.comms.open(id);\n",
              "      // Send a message to notify the kernel that we're ready.\n",
              "      channel.send({})\n",
              "\n",
              "      for await (const message of channel.messages) {\n",
              "        // Send a message to notify the kernel that we're ready.\n",
              "        channel.send({})\n",
              "        if (message.buffers) {\n",
              "          for (const buffer of message.buffers) {\n",
              "            buffers.push(buffer);\n",
              "            downloaded += buffer.byteLength;\n",
              "            progress.value = downloaded;\n",
              "          }\n",
              "        }\n",
              "      }\n",
              "      const blob = new Blob(buffers, {type: 'application/binary'});\n",
              "      const a = document.createElement('a');\n",
              "      a.href = window.URL.createObjectURL(blob);\n",
              "      a.download = filename;\n",
              "      div.appendChild(a);\n",
              "      a.click();\n",
              "      div.remove();\n",
              "    }\n",
              "  "
            ]
          },
          "metadata": {}
        },
        {
          "output_type": "display_data",
          "data": {
            "text/plain": [
              "<IPython.core.display.Javascript object>"
            ],
            "application/javascript": [
              "download(\"download_a1076470-79fe-4af6-8f3a-f0da45d39ff8\", \"cleaned_Ride_Pricing.csv\", 2758447)"
            ]
          },
          "metadata": {}
        },
        {
          "output_type": "display_data",
          "data": {
            "text/plain": [
              "<IPython.core.display.Javascript object>"
            ],
            "application/javascript": [
              "\n",
              "    async function download(id, filename, size) {\n",
              "      if (!google.colab.kernel.accessAllowed) {\n",
              "        return;\n",
              "      }\n",
              "      const div = document.createElement('div');\n",
              "      const label = document.createElement('label');\n",
              "      label.textContent = `Downloading \"${filename}\": `;\n",
              "      div.appendChild(label);\n",
              "      const progress = document.createElement('progress');\n",
              "      progress.max = size;\n",
              "      div.appendChild(progress);\n",
              "      document.body.appendChild(div);\n",
              "\n",
              "      const buffers = [];\n",
              "      let downloaded = 0;\n",
              "\n",
              "      const channel = await google.colab.kernel.comms.open(id);\n",
              "      // Send a message to notify the kernel that we're ready.\n",
              "      channel.send({})\n",
              "\n",
              "      for await (const message of channel.messages) {\n",
              "        // Send a message to notify the kernel that we're ready.\n",
              "        channel.send({})\n",
              "        if (message.buffers) {\n",
              "          for (const buffer of message.buffers) {\n",
              "            buffers.push(buffer);\n",
              "            downloaded += buffer.byteLength;\n",
              "            progress.value = downloaded;\n",
              "          }\n",
              "        }\n",
              "      }\n",
              "      const blob = new Blob(buffers, {type: 'application/binary'});\n",
              "      const a = document.createElement('a');\n",
              "      a.href = window.URL.createObjectURL(blob);\n",
              "      a.download = filename;\n",
              "      div.appendChild(a);\n",
              "      a.click();\n",
              "      div.remove();\n",
              "    }\n",
              "  "
            ]
          },
          "metadata": {}
        },
        {
          "output_type": "display_data",
          "data": {
            "text/plain": [
              "<IPython.core.display.Javascript object>"
            ],
            "application/javascript": [
              "download(\"download_b7a51770-95aa-4106-8bd1-b62d1852eb8c\", \"cleaned_Delivery_Pricing.csv\", 1402656)"
            ]
          },
          "metadata": {}
        }
      ]
    }
  ]
}