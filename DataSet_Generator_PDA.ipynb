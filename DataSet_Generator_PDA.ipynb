{
  "nbformat": 4,
  "nbformat_minor": 0,
  "metadata": {
    "colab": {
      "provenance": [],
      "authorship_tag": "ABX9TyP1v1VEUwHgYvEjBvuc4tt0",
      "include_colab_link": true
    },
    "kernelspec": {
      "name": "python3",
      "display_name": "Python 3"
    },
    "language_info": {
      "name": "python"
    }
  },
  "cells": [
    {
      "cell_type": "markdown",
      "metadata": {
        "id": "view-in-github",
        "colab_type": "text"
      },
      "source": [
        "<a href=\"https://colab.research.google.com/github/abhinandan6123/AutonoPros/blob/Advanced-Predictive-Analytics-for-Real-Time-Ride-and-Delivery-Pricing/DataSet_Generator_PDA.ipynb\" target=\"_parent\"><img src=\"https://colab.research.google.com/assets/colab-badge.svg\" alt=\"Open In Colab\"/></a>"
      ]
    },
    {
      "cell_type": "code",
      "execution_count": 2,
      "metadata": {
        "colab": {
          "base_uri": "https://localhost:8080/"
        },
        "id": "oOH5pIhklZa1",
        "outputId": "e1683db3-2cc4-4285-fcf2-e26a500fe086"
      },
      "outputs": [
        {
          "output_type": "stream",
          "name": "stdout",
          "text": [
            "Collecting faker\n",
            "  Downloading Faker-33.0.0-py3-none-any.whl.metadata (15 kB)\n",
            "Requirement already satisfied: python-dateutil>=2.4 in /usr/local/lib/python3.10/dist-packages (from faker) (2.8.2)\n",
            "Requirement already satisfied: typing-extensions in /usr/local/lib/python3.10/dist-packages (from faker) (4.12.2)\n",
            "Requirement already satisfied: six>=1.5 in /usr/local/lib/python3.10/dist-packages (from python-dateutil>=2.4->faker) (1.16.0)\n",
            "Downloading Faker-33.0.0-py3-none-any.whl (1.9 MB)\n",
            "\u001b[?25l   \u001b[90m━━━━━━━━━━━━━━━━━━━━━━━━━━━━━━━━━━━━━━━━\u001b[0m \u001b[32m0.0/1.9 MB\u001b[0m \u001b[31m?\u001b[0m eta \u001b[36m-:--:--\u001b[0m\r\u001b[2K   \u001b[91m━━━━━━━━━━━━━━━━━━━━━━━━━━━━━━━━━━━━━━━\u001b[0m\u001b[91m╸\u001b[0m \u001b[32m1.9/1.9 MB\u001b[0m \u001b[31m78.3 MB/s\u001b[0m eta \u001b[36m0:00:01\u001b[0m\r\u001b[2K   \u001b[90m━━━━━━━━━━━━━━━━━━━━━━━━━━━━━━━━━━━━━━━━\u001b[0m \u001b[32m1.9/1.9 MB\u001b[0m \u001b[31m45.8 MB/s\u001b[0m eta \u001b[36m0:00:00\u001b[0m\n",
            "\u001b[?25hInstalling collected packages: faker\n",
            "Successfully installed faker-33.0.0\n",
            "Synthetic dataset 'Predictive_Analytics_Dataset.xlsx' has been generated.\n"
          ]
        }
      ],
      "source": [
        "!pip install faker # Install the faker library\n",
        "\n",
        "import pandas as pd\n",
        "import numpy as np\n",
        "from faker import Faker # Now this line should work without error\n",
        "import random\n",
        "\n",
        "\n",
        "\n",
        "fake = Faker()\n",
        "\n",
        "# Settings\n",
        "num_records = 10000  # Number of records to generate\n",
        "\n",
        "# Helper Functions\n",
        "def generate_location():\n",
        "    return fake.latitude(), fake.longitude()\n",
        "\n",
        "def generate_weather():\n",
        "    return random.choice(['Sunny', 'Rainy', 'Snowy', 'Cloudy', 'Windy'])\n",
        "\n",
        "def generate_vehicle_type():\n",
        "    return random.choice(['Standard', 'Premium', 'Luxury'])\n",
        "\n",
        "def generate_delivery_type():\n",
        "    return random.choice(['Standard', 'Express'])\n",
        "\n",
        "def generate_time_of_day():\n",
        "    hour = random.randint(0, 23)\n",
        "    if 5 <= hour < 12:\n",
        "        return 'Morning'\n",
        "    elif 12 <= hour < 17:\n",
        "        return 'Afternoon'\n",
        "    elif 17 <= hour < 21:\n",
        "        return 'Evening'\n",
        "    else:\n",
        "        return 'Night'\n",
        "\n",
        "def generate_day_of_week():\n",
        "    return random.choice(['Monday', 'Tuesday', 'Wednesday', 'Thursday', 'Friday', 'Saturday', 'Sunday'])\n",
        "\n",
        "def generate_surge_multiplier():\n",
        "    return round(random.uniform(1, 3), 2) if random.random() < 0.2 else 1.0  # 20% chance of surge\n",
        "\n",
        "# Generate Ride Pricing Data\n",
        "ride_data = {\n",
        "    'Trip_ID': range(1, num_records + 1),\n",
        "    'Pickup_Latitude': [generate_location()[0] for _ in range(num_records)],\n",
        "    'Pickup_Longitude': [generate_location()[1] for _ in range(num_records)],\n",
        "    'Dropoff_Latitude': [generate_location()[0] for _ in range(num_records)],\n",
        "    'Dropoff_Longitude': [generate_location()[1] for _ in range(num_records)],\n",
        "    'Trip_Distance_km': np.round(np.random.uniform(1, 30, num_records), 2),\n",
        "    'Trip_Duration_min': np.random.randint(5, 120, num_records),\n",
        "    'Base_Fare': np.round(np.random.uniform(2.5, 5.0, num_records), 2),\n",
        "    'Surge_Multiplier': [generate_surge_multiplier() for _ in range(num_records)],\n",
        "    'Time_of_Day': [generate_time_of_day() for _ in range(num_records)],\n",
        "    'Day_of_Week': [generate_day_of_week() for _ in range(num_records)],\n",
        "    'Weather_Condition': [generate_weather() for _ in range(num_records)],\n",
        "    'Vehicle_Type': [generate_vehicle_type() for _ in range(num_records)],\n",
        "    'Traffic_Index': np.round(np.random.uniform(0.5, 2.0, num_records), 2),\n",
        "    'Pickup_Location_Type': random.choices(['Airport', 'Urban', 'Suburban'], k=num_records),\n",
        "    'Dropoff_Location_Type': random.choices(['Urban', 'Suburban'], k=num_records),\n",
        "    'Tolls': np.round(np.random.uniform(0, 10, num_records), 2),\n",
        "    'Cancellation_Fee': np.where(np.random.rand(num_records) < 0.05, np.round(np.random.uniform(5, 20, num_records), 2), 0),\n",
        "    'Passenger_Count': np.random.randint(1, 5, num_records)\n",
        "}\n",
        "\n",
        "ride_df = pd.DataFrame(ride_data)\n",
        "ride_df['Total_Fare'] = (ride_df['Base_Fare'] +\n",
        "                          (ride_df['Trip_Distance_km'] * 1.5) +  # Per km rate\n",
        "                          (ride_df['Trip_Duration_min'] * 0.5) +  # Per minute rate\n",
        "                          ride_df['Tolls'] +\n",
        "                          ride_df['Cancellation_Fee']) * ride_df['Surge_Multiplier']\n",
        "\n",
        "# Generate Delivery Pricing Data\n",
        "delivery_data = {\n",
        "    'Delivery_ID': range(1, num_records + 1),\n",
        "    'Pickup_Latitude': [generate_location()[0] for _ in range(num_records)],\n",
        "    'Pickup_Longitude': [generate_location()[1] for _ in range(num_records)],\n",
        "    'Dropoff_Latitude': [generate_location()[0] for _ in range(num_records)],\n",
        "    'Dropoff_Longitude': [generate_location()[1] for _ in range(num_records)],\n",
        "    'Delivery_Distance_km': np.round(np.random.uniform(1, 50, num_records), 2),\n",
        "    'Package_Weight_kg': np.round(np.random.uniform(0.1, 20, num_records), 2),\n",
        "    'Delivery_Time_Est_min': np.random.randint(10, 240, num_records),\n",
        "    'Order_Value': np.round(np.random.uniform(5, 500, num_records), 2),\n",
        "    'Platform_Fees': np.round(np.random.uniform(0.5, 5.0, num_records), 2),\n",
        "    'Time_of_Day': [generate_time_of_day() for _ in range(num_records)],\n",
        "    'Day_of_Week': [generate_day_of_week() for _ in range(num_records)],\n",
        "    'Weather_Condition': [generate_weather() for _ in range(num_records)],\n",
        "    'Delivery_Type': [generate_delivery_type() for _ in range(num_records)],\n",
        "    'Traffic_Index': np.round(np.random.uniform(0.5, 2.0, num_records), 2),\n",
        "    'Delivery_Location_Type': random.choices(['Urban', 'Suburban', 'Remote'], k=num_records),\n",
        "    'Discount_Applied': np.where(np.random.rand(num_records) < 0.3, np.round(np.random.uniform(1, 20, num_records), 2), 0),\n",
        "    'Surge_Multiplier': [generate_surge_multiplier() for _ in range(num_records)],\n",
        "    'Fuel_Cost': np.round(np.random.uniform(1, 10, num_records), 2)\n",
        "}\n",
        "\n",
        "delivery_df = pd.DataFrame(delivery_data)\n",
        "delivery_df['Total_Delivery_Fee'] = ((delivery_df['Delivery_Distance_km'] * 0.8) +  # Per km rate\n",
        "                                     (delivery_df['Package_Weight_kg'] * 0.5) +  # Per kg rate\n",
        "                                     delivery_df['Platform_Fees'] +\n",
        "                                     delivery_df['Fuel_Cost']) * delivery_df['Surge_Multiplier'] - delivery_df['Discount_Applied']\n",
        "\n",
        "# Combine into a single Excel file with two sheets\n",
        "with pd.ExcelWriter('Predictive_Analytics_Dataset.xlsx') as writer:\n",
        "    ride_df.to_excel(writer, sheet_name='Ride_Pricing', index=False)\n",
        "    delivery_df.to_excel(writer, sheet_name='Delivery_Pricing', index=False)\n",
        "\n",
        "print(\"Synthetic dataset 'Predictive_Analytics_Dataset.xlsx' has been generated.\")\n"
      ]
    },
    {
      "cell_type": "code",
      "source": [
        "from google.colab import files\n",
        "files.download('Predictive_Analytics_Dataset.xlsx')\n",
        "\n"
      ],
      "metadata": {
        "colab": {
          "base_uri": "https://localhost:8080/",
          "height": 17
        },
        "id": "rq5pPK25l5n2",
        "outputId": "0cf609ed-449d-4abd-8c32-3883153fde8d"
      },
      "execution_count": 4,
      "outputs": [
        {
          "output_type": "display_data",
          "data": {
            "text/plain": [
              "<IPython.core.display.Javascript object>"
            ],
            "application/javascript": [
              "\n",
              "    async function download(id, filename, size) {\n",
              "      if (!google.colab.kernel.accessAllowed) {\n",
              "        return;\n",
              "      }\n",
              "      const div = document.createElement('div');\n",
              "      const label = document.createElement('label');\n",
              "      label.textContent = `Downloading \"${filename}\": `;\n",
              "      div.appendChild(label);\n",
              "      const progress = document.createElement('progress');\n",
              "      progress.max = size;\n",
              "      div.appendChild(progress);\n",
              "      document.body.appendChild(div);\n",
              "\n",
              "      const buffers = [];\n",
              "      let downloaded = 0;\n",
              "\n",
              "      const channel = await google.colab.kernel.comms.open(id);\n",
              "      // Send a message to notify the kernel that we're ready.\n",
              "      channel.send({})\n",
              "\n",
              "      for await (const message of channel.messages) {\n",
              "        // Send a message to notify the kernel that we're ready.\n",
              "        channel.send({})\n",
              "        if (message.buffers) {\n",
              "          for (const buffer of message.buffers) {\n",
              "            buffers.push(buffer);\n",
              "            downloaded += buffer.byteLength;\n",
              "            progress.value = downloaded;\n",
              "          }\n",
              "        }\n",
              "      }\n",
              "      const blob = new Blob(buffers, {type: 'application/binary'});\n",
              "      const a = document.createElement('a');\n",
              "      a.href = window.URL.createObjectURL(blob);\n",
              "      a.download = filename;\n",
              "      div.appendChild(a);\n",
              "      a.click();\n",
              "      div.remove();\n",
              "    }\n",
              "  "
            ]
          },
          "metadata": {}
        },
        {
          "output_type": "display_data",
          "data": {
            "text/plain": [
              "<IPython.core.display.Javascript object>"
            ],
            "application/javascript": [
              "download(\"download_f77e30ad-10e7-4ab2-8104-13847374fd19\", \"Predictive_Analytics_Dataset.xlsx\", 2479000)"
            ]
          },
          "metadata": {}
        }
      ]
    }
  ]
}